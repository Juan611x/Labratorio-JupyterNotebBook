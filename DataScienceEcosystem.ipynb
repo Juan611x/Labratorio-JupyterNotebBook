{
 "cells": [
  {
   "cell_type": "markdown",
   "id": "8a8f9c8a-1777-47b3-9022-a8c88df36c62",
   "metadata": {},
   "source": [
    "# Data Science Tools and Ecosystem"
   ]
  },
  {
   "cell_type": "markdown",
   "id": "87a9b5c0-d733-456a-ab39-2cd5a3f7286e",
   "metadata": {},
   "source": [
    "En este cuaderno, se resumen las herramientas y ecosistemas de ciencia de datos."
   ]
  },
  {
   "cell_type": "markdown",
   "id": "43b173cb-8561-481d-8ff5-69c2c31f0c5f",
   "metadata": {},
   "source": [
    "**Objetivos:**\n",
    "\n",
    "* Listar lenguajes populares para Ciencia de Datos\n",
    "* Lista de Librerías populares para la Ciencia de datos\n",
    "* Tabla de Herramientas populares para la Ciencia de datos\n",
    "* Ejemplo de Expresión Aritmética en Python"
   ]
  },
  {
   "cell_type": "markdown",
   "id": "d59fbd77-a245-4df2-a0a6-ca91ea7a2fbe",
   "metadata": {},
   "source": [
    "Algunos de los lenguajes populares que utilizan los científicos de datos son:\n",
    "\n",
    "1. Python\n",
    "2. Julia\n",
    "3. R"
   ]
  },
  {
   "cell_type": "markdown",
   "id": "86263d47-b723-4cf7-b5f9-9b8c87f8a540",
   "metadata": {},
   "source": [
    "Algunas de las bibliotecas comúnmente utilizadas por los científicos de datos incluyen:\n",
    "\n",
    "1. TensorFlow\n",
    "2. Pandas\n",
    "3. NumPy "
   ]
  },
  {
   "cell_type": "markdown",
   "id": "644febe4-8f69-4fa2-a3aa-885781b869b6",
   "metadata": {},
   "source": [
    "|Herramientas de Ciencia de Datos|\n",
    "|--------------------------------|\n",
    "|Jupyter Lab|\n",
    "|Hadoop|\n",
    "|RStudio|"
   ]
  },
  {
   "cell_type": "markdown",
   "id": "0ce66172-da37-4c3f-9b83-0e4ba23d1e75",
   "metadata": {},
   "source": [
    "A continuación, se presentan algunos ejemplos de evaluación de expresiones aritméticas en Python\n",
    "\n",
    "$(3*4)+5$"
   ]
  },
  {
   "cell_type": "code",
   "execution_count": 2,
   "id": "ed132ed7-dcec-4b3a-b6eb-1d67585bfcb5",
   "metadata": {},
   "outputs": [
    {
     "data": {
      "text/plain": [
       "17"
      ]
     },
     "execution_count": 2,
     "metadata": {},
     "output_type": "execute_result"
    }
   ],
   "source": [
    "#Esta es una expresión aritmética simple para multiplicar y luego sumar enteros\n",
    "(3*4)+5"
   ]
  },
  {
   "cell_type": "code",
   "execution_count": 3,
   "id": "fb1df4ef-7b69-4b39-b5d7-541966013951",
   "metadata": {},
   "outputs": [
    {
     "data": {
      "text/plain": [
       "3.3333333333333335"
      ]
     },
     "execution_count": 3,
     "metadata": {},
     "output_type": "execute_result"
    }
   ],
   "source": [
    "#Esto convertirá 200 minutos a horas dividiendo por 60\n",
    "(200 / 60)"
   ]
  },
  {
   "cell_type": "markdown",
   "id": "772bc682-7feb-47b9-8feb-23197313c674",
   "metadata": {},
   "source": [
    "## Autor \n",
    "Juan Ignacio Gándara A."
   ]
  }
 ],
 "metadata": {
  "kernelspec": {
   "display_name": "Python 3 (ipykernel)",
   "language": "python",
   "name": "python3"
  },
  "language_info": {
   "codemirror_mode": {
    "name": "ipython",
    "version": 3
   },
   "file_extension": ".py",
   "mimetype": "text/x-python",
   "name": "python",
   "nbconvert_exporter": "python",
   "pygments_lexer": "ipython3",
   "version": "3.12.5"
  }
 },
 "nbformat": 4,
 "nbformat_minor": 5
}
